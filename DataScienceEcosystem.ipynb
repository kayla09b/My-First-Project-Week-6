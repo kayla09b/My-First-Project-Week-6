{
 "cells": [
  {
   "cell_type": "markdown",
   "id": "e841fdea",
   "metadata": {},
   "source": [
    "# Data Science Tools and Ecosystem\n"
   ]
  },
  {
   "cell_type": "markdown",
   "id": "e86919b3",
   "metadata": {},
   "source": [
    "*In this notebook, Data Science Tools and Ecosystem are summarized.*"
   ]
  },
  {
   "cell_type": "markdown",
   "id": "73e0499a",
   "metadata": {},
   "source": [
    "**Objectives:**\n",
    "\n",
    "* List popular languages for Data Science.\n",
    "* List commonly used libraries used by Data Scientists.\n",
    "* Create a table of common open-sourced Data Science tools.\n",
    "* Demonstrate the ability to code simple expressions.\n",
    "* Demonstrate the ability to format text using various heading styles, font styles, as well as in ordered and unordered lists."
   ]
  },
  {
   "cell_type": "markdown",
   "id": "e0ba973e",
   "metadata": {},
   "source": [
    "Some of the popular languages that Data Scientists use are:\n",
    "\n",
    "    1. Python\n",
    "    2. SQL\n",
    "    3. R\n",
    "    4. Scala\n",
    "    5. Julia"
   ]
  },
  {
   "cell_type": "markdown",
   "id": "94337c5c",
   "metadata": {},
   "source": [
    "Some of the commonly used libraries used by Data Scientists include:\n",
    "    \n",
    "    1. Pandas\n",
    "    2. NumPy\n",
    "    3. MatPlotLib\n",
    "    4. Seaborn\n",
    "    5. Scikit-Learn\n",
    "    "
   ]
  },
  {
   "cell_type": "markdown",
   "id": "102a7e26",
   "metadata": {},
   "source": [
    "|Data Science Tools|\n",
    "-------------------\n",
    "|Jupyter Notebooks|\n",
    "|RStudio|\n",
    "|Apache Spark|\n",
    "|Git|"
   ]
  },
  {
   "cell_type": "markdown",
   "id": "175b4349",
   "metadata": {},
   "source": [
    "### Below are a few examples of evaluating arithmetic expressions in Python."
   ]
  },
  {
   "cell_type": "markdown",
   "id": "1d6df48f",
   "metadata": {},
   "source": [
    "This is a simple arithmetic expression to multiply then add integers."
   ]
  },
  {
   "cell_type": "code",
   "execution_count": 9,
   "id": "93bf24c1",
   "metadata": {},
   "outputs": [
    {
     "data": {
      "text/plain": [
       "17"
      ]
     },
     "execution_count": 9,
     "metadata": {},
     "output_type": "execute_result"
    }
   ],
   "source": [
    "(3*4)+5"
   ]
  },
  {
   "cell_type": "markdown",
   "id": "176881d2",
   "metadata": {},
   "source": [
    "This expression will convert 200 minutes into hours by dividing by 60."
   ]
  },
  {
   "cell_type": "code",
   "execution_count": 11,
   "id": "c03f90b7",
   "metadata": {},
   "outputs": [
    {
     "data": {
      "text/plain": [
       "3.3333333333333335"
      ]
     },
     "execution_count": 11,
     "metadata": {},
     "output_type": "execute_result"
    }
   ],
   "source": [
    "(200/60)"
   ]
  },
  {
   "cell_type": "markdown",
   "id": "d5043d2e",
   "metadata": {},
   "source": [
    "## Author \n",
    "Kayla Bartolomeo-Goad"
   ]
  }
 ],
 "metadata": {
  "kernelspec": {
   "display_name": "Python 3 (ipykernel)",
   "language": "python",
   "name": "python3"
  },
  "language_info": {
   "codemirror_mode": {
    "name": "ipython",
    "version": 3
   },
   "file_extension": ".py",
   "mimetype": "text/x-python",
   "name": "python",
   "nbconvert_exporter": "python",
   "pygments_lexer": "ipython3",
   "version": "3.11.5"
  }
 },
 "nbformat": 4,
 "nbformat_minor": 5
}
